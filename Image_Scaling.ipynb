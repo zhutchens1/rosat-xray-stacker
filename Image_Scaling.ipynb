{
 "cells": [
  {
   "cell_type": "markdown",
   "id": "e6cd9187",
   "metadata": {},
   "source": [
    "# Definitions\n",
    "\n",
    "Suppose we have a raw RASS image $\\mathbf A$, with pixel values $A_{ij}$ and size $N \\times N$, covering a galaxy group with redshift $z_{\\rm grp}$:\n",
    "$$ \\mathbf{A} = \\pmatrix{A_{00} & \\dots  & A_{0N} \\\\ \\vdots & \\ddots & \\vdots \\\\A_{N0} & \\dots & A_{NN}} ,\\,\\, {\\rm size}\\, N\\times N $$\n",
    "<br>\n",
    "The goal of the image scaling procedure is to make a new, scaled image $\\mathbf{A'}$, which:\n",
    "- changes the angular size of objects in the original image such that $\\mathbf{A'}$ corresponds in physical size to a larger redshift $z_{\\rm max}$.\n",
    "- maintains the resolution of the original (45''/px for RASS)\n",
    "<br>\n",
    "\n",
    "To accomplish this, we need a scaling factor $s$ to scale the images:\n",
    "$$ s = \\frac{z_{\\rm grp}}{z_{\\rm max}}. $$\n",
    "\n",
    "<br>\n",
    "\n",
    "The scaled image $\\mathbf{A'}$ constructed from $s$ and $\\mathbf A$ will occupy fewer pixels to cover the same physical size:\n",
    "\n",
    "$$ \\mathbf{A}' = \\pmatrix{0 & \\dots  & 0 \\\\ \\vdots & A_{kl}' & \\vdots \\\\0 & \\dots & 0},\\,\\, {{\\rm size}\\, N\\times N}. $$\n",
    "\n",
    "Therefore, there is not a simple one-to-one mapping between pixels in $\\mathbf{A}$ and non-zero pixels in $\\mathbf{A'}$. The mapping function we use (applied through `scipy.ndimage.geometric_transform`) is given by:\n",
    "\n",
    "$$ \\mathcal{G}: (i,j)=\\left(\\frac{2k + Ns - N}{2s}, \\frac{2l + Ns - N}{2s}\\right), $$\n",
    "\n",
    "which describes the position $(i,j)$ in the original image as a function of the position $(k,l)$ in the scaled image.\n",
    "\n",
    "## Examples of $\\mathcal{G}$<br>\n",
    "If we apply $\\mathcal{G}$ to the central pixel in $\\mathbf{A'}$, it will return the same value. The center pixel is located at the same place in both images."
   ]
  },
  {
   "cell_type": "code",
   "execution_count": null,
   "id": "cca491b4",
   "metadata": {},
   "outputs": [],
   "source": [
    "def Gmap(kk,ll,s):\n",
    "    return ((2*kk+N*s-N)/(2*s),(2*ll+N*s-N)/(2*s))"
   ]
  },
  {
   "cell_type": "code",
   "execution_count": null,
   "id": "39dba8be",
   "metadata": {},
   "outputs": [],
   "source": [
    "N, s = 300, 0.5\n",
    "Gmap(N//2, N//2, s)"
   ]
  },
  {
   "cell_type": "code",
   "execution_count": null,
   "id": "b7f83a9b",
   "metadata": {},
   "outputs": [],
   "source": [
    "N, s = 300, 0.2\n",
    "Gmap(N//2, N//2, s)"
   ]
  },
  {
   "cell_type": "markdown",
   "id": "f80cde41",
   "metadata": {},
   "source": [
    "The corners of images should have the most drastic change from $(i,j)$ to $(k,l)$ The corner pixel $(0,0)$ in $\\mathbf{A}$ corresponds to $(75,75)$ in $\\mathbf A'$ for $N=300$, $s=0.5$. Likewise, a pixel in $\\mathbf A$ at $(300,300)$ corresponds to $(225,225)$ in $\\mathbf A'$."
   ]
  },
  {
   "cell_type": "code",
   "execution_count": null,
   "id": "d043d7f9",
   "metadata": {},
   "outputs": [],
   "source": [
    "N, s = 300, 0.5\n",
    "Gmap(75,75, s)"
   ]
  },
  {
   "cell_type": "code",
   "execution_count": null,
   "id": "0190dd08",
   "metadata": {},
   "outputs": [],
   "source": [
    "N, s = 300, 0.5\n",
    "Gmap(225, 225, s)"
   ]
  },
  {
   "cell_type": "markdown",
   "id": "a2a733c6",
   "metadata": {},
   "source": [
    "## Determing Pixel Values in $A'$\n",
    "\n",
    "Given that the number of pixels in $\\mathbf{A}$ does not correspond one-to-one with non-zero pixels in $\\mathbf{A'}$, the pixel values must be combined in $\\mathbf A'$ if it will contain the same information. The pixel values in $\\mathbf A'$ are determined using a spline fit of $A$ given the pixel position mapping."
   ]
  },
  {
   "cell_type": "code",
   "execution_count": null,
   "id": "013eeb22",
   "metadata": {},
   "outputs": [],
   "source": [
    "import numpy as np\n",
    "import matplotlib.pyplot as plt\n",
    "from scipy.ndimage import geometric_transform\n",
    "\n",
    "def mapping(coords,s):\n",
    "    return ((2*coords[0]+N*s-N)/(2*s),(2*coords[1]+N*s-N)/(2*s))\n",
    "\n",
    "NN = 300\n",
    "xx=np.arange(0,NN,1)\n",
    "counts = 5*np.exp(-1*(xx-NN//2)**2./(500))\n",
    "image = counts*counts[:,None]\n",
    "scaledimage = geometric_transform(image,mapping,extra_keywords={'s':0.5})\n",
    "\n",
    "fig,axs=plt.subplots(ncols=2)\n",
    "axs[0].imshow(image)\n",
    "axs[1].imshow(scaledimage)\n",
    "plt.show()"
   ]
  },
  {
   "cell_type": "markdown",
   "id": "1274ce1d",
   "metadata": {},
   "source": [
    "If the geometric transformation conserves flux then it will satisfy\n",
    "$$ \\sum_i\\sum_j A_{ij} = \\frac{1}{s^2}\\sum_k\\sum_l A_{kl}'$$"
   ]
  },
  {
   "cell_type": "code",
   "execution_count": null,
   "id": "6d9e379c",
   "metadata": {},
   "outputs": [],
   "source": [
    "np.sum(image), np.sum(scaledimage)*(1/0.5)**2."
   ]
  },
  {
   "cell_type": "code",
   "execution_count": null,
   "id": "54a310c7",
   "metadata": {},
   "outputs": [],
   "source": [
    "NN = 300\n",
    "xx=np.arange(0,NN,1)\n",
    "counts = np.sqrt(xx)\n",
    "image = counts*counts[:,None]\n",
    "scaledimage = geometric_transform(image,mapping,extra_keywords={'s':0.5})\n",
    "\n",
    "fig,axs=plt.subplots(ncols=2)\n",
    "axs[0].imshow(image)\n",
    "axs[1].imshow(scaledimage)\n",
    "plt.show()"
   ]
  },
  {
   "cell_type": "code",
   "execution_count": null,
   "id": "eee32a87",
   "metadata": {},
   "outputs": [],
   "source": [
    "np.sum(image), np.sum(scaledimage)*(1/0.5)**2."
   ]
  },
  {
   "cell_type": "markdown",
   "id": "9630a492",
   "metadata": {},
   "source": [
    "# How many counts are lost in general?\n",
    "The above example shows that the geometric transformation is not perfectly flux-conserving, even though it might be for particular images and particular on-sky geometries (e.g. symmetrical sources).\n",
    "\n",
    "To understand the extent to which image scaling affects flux conservation, I plot below the distribution of differences\n",
    "$$ d=\\frac{\\sum_i\\sum_j A_{ij} - \\frac{1}{s^2}\\sum_k\\sum_l A_{kl}' }{\\sum_i\\sum_j A_{ij}} $$\n",
    "between raw images and redshift-scaled images for a subsample of 300 ECO galaxy groups."
   ]
  },
  {
   "cell_type": "code",
   "execution_count": null,
   "id": "1aa1096d",
   "metadata": {},
   "outputs": [],
   "source": [
    "import os\n",
    "from astropy.io import fits\n",
    "from random import sample\n",
    "from scipy.stats import ks_2samp as kstest, anderson_ksamp as adtest\n",
    "import pandas as pd"
   ]
  },
  {
   "cell_type": "code",
   "execution_count": null,
   "id": "adfccb9a",
   "metadata": {},
   "outputs": [],
   "source": [
    "fnames=os.listdir('./g3rassimages/broad/eco_broad_cts_ptsrc_rm')\n",
    "groupfile = pd.read_csv(\"../g3groups/ECOdata_G3catalog_luminosity.csv\")\n",
    "groupfile = groupfile[groupfile.g3fc_l==1.0]"
   ]
  },
  {
   "cell_type": "code",
   "execution_count": null,
   "id": "168f8929",
   "metadata": {},
   "outputs": [],
   "source": [
    "diff=[]\n",
    "pval=[]\n",
    "zscale=[]\n",
    "for ff in fnames[0:5]:\n",
    "    grpid=float(ff.split('_')[2][3:-5])\n",
    "    czval = groupfile[['g3grpcz_l']][groupfile.g3grp_l==grpid]\n",
    "    scalefactor = np.array(czval/7470)[0]\n",
    "    original=fits.open('./g3rassimages/broad/eco_broad_cts_ptsrc_rm/'+ff)[0].data\n",
    "    rescaled=fits.open('./g3rassimages/broad/eco_broad_cts_scaled/'+ff)[0].data\n",
    "    original = original.flatten()\n",
    "    rescaled = (1/scalefactor**2.)*rescaled.flatten()\n",
    "    if True:\n",
    "        binv=np.arange(0,20,1)\n",
    "        plt.figure()\n",
    "        plt.hist(original,bins=binv)\n",
    "        plt.hist(rescaled,bins=binv,histtype='step',linewidth=2)\n",
    "        plt.yscale('log')\n",
    "        plt.show()\n",
    "    totalcounts=np.sum(original)\n",
    "    rescaledcounts=np.sum(rescaled)\n",
    "    diff.append((totalcounts-rescaledcounts)/totalcounts)\n",
    "    zscale.append(scalefactor)"
   ]
  },
  {
   "cell_type": "code",
   "execution_count": null,
   "id": "27860099",
   "metadata": {},
   "outputs": [],
   "source": [
    "fig,axs=plt.subplots(ncols=2)\n",
    "axs[0].scatter(np.array(zscale)*7470.,diff)\n",
    "axs[0].set_xlabel(\"original cz\")\n",
    "axs[0].set_ylabel(\"Fraction of Original Counts Gained\\nor Lost in Rescaled Image\")"
   ]
  },
  {
   "cell_type": "code",
   "execution_count": null,
   "id": "c747ccce",
   "metadata": {},
   "outputs": [],
   "source": [
    "diff=[]\n",
    "ksval=[]\n",
    "cntr=1\n",
    "ss=np.random.uniform(2530,7470,1000)/7470.\n",
    "files = sample(os.listdir('g3rassimages/broad/eco_broad_cts/'),10)\n",
    "for index,ff in enumerate(files):\n",
    "    if 'Cnt' in ff:\n",
    "        image = fits.open('./g3rassimages/broad/eco_broad_cts/'+ff)[0].data\n",
    "        scaledimage = geometric_transform(image,mapping,cval=-99.,extra_keywords={'s':ss[index]})\n",
    "        totalcounts=np.sum(image)\n",
    "        scaledimage=scaledimage[scaledimage>=0]\n",
    "        diff.append((totalcounts - (1/(ss[index]*ss[index]))*np.sum(scaledimage))/totalcounts)\n",
    "        \n",
    "        image= image.flatten()\n",
    "        scaledimage = (1/(ss[index]*ss[index]))*scaledimage[scaledimage>-99].flatten()\n",
    "        print(kstest(image,scaledimage))\n",
    "#         plt.figure()\n",
    "#         _,bv,_=plt.hist(image,log=True,bins=15)\n",
    "#         plt.hist(scaledimage,log=True,histtype='step',bins=bv)\n",
    "#         plt.show()\n",
    "        \n",
    "        cntr+=1\n",
    "        if cntr==101: break"
   ]
  },
  {
   "cell_type": "code",
   "execution_count": null,
   "id": "6267b24c",
   "metadata": {},
   "outputs": [],
   "source": [
    "plt.figure(figsize=(6,4))\n",
    "plt.hist(diff,bins='fd', histtype='stepfilled', color='teal')\n",
    "median=np.median(diff)\n",
    "plt.axvline(median, label='Median = {:0.2E}'.format(median), color='k')\n",
    "plt.xlabel(\"Fraction of Counts in Original Image\\n Gained or Lost in Resaled Image\", fontsize=12)\n",
    "plt.title(\"Sample of {} Count Maps\".format(len(diff)),fontsize=12)\n",
    "plt.legend(loc='best',fontsize=11)\n",
    "plt.show()"
   ]
  },
  {
   "cell_type": "code",
   "execution_count": null,
   "id": "053588f7",
   "metadata": {},
   "outputs": [],
   "source": [
    "plt.figure(figsize=(6,4))\n",
    "plt.scatter(ss[0:len(diff)]*7470., diff, s=2, alpha=1)\n",
    "plt.xlabel(\"original cz value\")\n",
    "plt.ylabel(\"Fraction of Counts Gained in \\n Rescaled Image\")\n",
    "plt.title(\"Sample of {} Count Maps\".format(len(diff)),fontsize=12)\n",
    "plt.show()"
   ]
  },
  {
   "cell_type": "markdown",
   "id": "2f4d9a04",
   "metadata": {},
   "source": [
    "# How much exposure time is lost in general?"
   ]
  },
  {
   "cell_type": "code",
   "execution_count": null,
   "id": "3995803e",
   "metadata": {},
   "outputs": [],
   "source": [
    "diff=[]\n",
    "cntr=1\n",
    "for ff in os.listdir('g3rassimages/eco_broad/'):\n",
    "    if 'Exp' in ff:\n",
    "        image = fits.open('./g3rassimages/eco_broad/'+ff)[0].data\n",
    "        ss=0.5\n",
    "        scaledimage = geometric_transform(image,mapping,extra_keywords={'s':ss})\n",
    "        totalcounts=np.sum(image)\n",
    "        diff.append((totalcounts - (1/(ss*ss))*np.sum(scaledimage))/totalcounts)\n",
    "        cntr+=1\n",
    "        if cntr==501: break"
   ]
  },
  {
   "cell_type": "code",
   "execution_count": null,
   "id": "c8a27cd0",
   "metadata": {},
   "outputs": [],
   "source": [
    "plt.figure(figsize=(6,4))\n",
    "plt.hist(diff,bins='fd', histtype='stepfilled', color='teal')\n",
    "median=np.median(diff)\n",
    "plt.axvline(median, label='Median = {:0.2E}'.format(median), color='k')\n",
    "plt.xlabel(\"\\n$d$: Fraction of Time in Original Image\\n Gained or Lost in Scaled Image\", fontsize=12)\n",
    "plt.title(\"Sample of {} Count Maps\".format(len(diff)),fontsize=12)\n",
    "plt.legend(loc='best',fontsize=11)\n",
    "plt.show()"
   ]
  },
  {
   "cell_type": "code",
   "execution_count": null,
   "id": "6a9d5ecc",
   "metadata": {},
   "outputs": [],
   "source": []
  }
 ],
 "metadata": {
  "kernelspec": {
   "display_name": "Python 3 (ipykernel)",
   "language": "python",
   "name": "python3"
  },
  "language_info": {
   "codemirror_mode": {
    "name": "ipython",
    "version": 3
   },
   "file_extension": ".py",
   "mimetype": "text/x-python",
   "name": "python",
   "nbconvert_exporter": "python",
   "pygments_lexer": "ipython3",
   "version": "3.9.7"
  }
 },
 "nbformat": 4,
 "nbformat_minor": 5
}
